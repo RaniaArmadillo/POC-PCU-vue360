{
 "cells": [
  {
   "cell_type": "markdown",
   "metadata": {},
   "source": [
    "# Running rosetta queries on SparkSQL (pyspark)"
   ]
  },
  {
   "cell_type": "markdown",
   "metadata": {},
   "source": [
    "## Input Data "
   ]
  },
  {
   "cell_type": "code",
   "execution_count": 121,
   "metadata": {},
   "outputs": [
    {
     "data": {
      "text/html": [
       "<div>\n",
       "<style scoped>\n",
       "    .dataframe tbody tr th:only-of-type {\n",
       "        vertical-align: middle;\n",
       "    }\n",
       "\n",
       "    .dataframe tbody tr th {\n",
       "        vertical-align: top;\n",
       "    }\n",
       "\n",
       "    .dataframe thead th {\n",
       "        text-align: right;\n",
       "    }\n",
       "</style>\n",
       "<table border=\"1\" class=\"dataframe\">\n",
       "  <thead>\n",
       "    <tr style=\"text-align: right;\">\n",
       "      <th></th>\n",
       "      <th>orderno</th>\n",
       "      <th>custid</th>\n",
       "      <th>order_date</th>\n",
       "      <th>ship_date</th>\n",
       "      <th>items</th>\n",
       "    </tr>\n",
       "  </thead>\n",
       "  <tbody>\n",
       "    <tr>\n",
       "      <td>0</td>\n",
       "      <td>1001</td>\n",
       "      <td>C41</td>\n",
       "      <td>2017-04-29</td>\n",
       "      <td>2017-05-03</td>\n",
       "      <td>[(347, 5, 19.99), (193, 2, 28.89)]</td>\n",
       "    </tr>\n",
       "    <tr>\n",
       "      <td>1</td>\n",
       "      <td>1002</td>\n",
       "      <td>C13</td>\n",
       "      <td>2017-05-01</td>\n",
       "      <td>2017-05-03</td>\n",
       "      <td>[(460, 95, 100.99), (680, 150, 8.75)]</td>\n",
       "    </tr>\n",
       "    <tr>\n",
       "      <td>2</td>\n",
       "      <td>1003</td>\n",
       "      <td>C31</td>\n",
       "      <td>2017-06-15</td>\n",
       "      <td>2017-06-16</td>\n",
       "      <td>[(120, 2, 88.99), (460, 3, 99.99)]</td>\n",
       "    </tr>\n",
       "    <tr>\n",
       "      <td>3</td>\n",
       "      <td>1004</td>\n",
       "      <td>C35</td>\n",
       "      <td>2017-07-10</td>\n",
       "      <td>2017-07-15</td>\n",
       "      <td>[(680, 6, 9.99), (195, 4, 35.0)]</td>\n",
       "    </tr>\n",
       "    <tr>\n",
       "      <td>4</td>\n",
       "      <td>1005</td>\n",
       "      <td>C37</td>\n",
       "      <td>2017-08-30</td>\n",
       "      <td>None</td>\n",
       "      <td>[(460, 2, 99.98), (347, 120, 22.0), (780, 1, 1500.0), (375, 2, 149.98)]</td>\n",
       "    </tr>\n",
       "    <tr>\n",
       "      <td>5</td>\n",
       "      <td>1006</td>\n",
       "      <td>C41</td>\n",
       "      <td>2017-09-02</td>\n",
       "      <td>2017-09-04</td>\n",
       "      <td>[(680, 51, 25.98), (120, 65, 85.0), (460, 120, 99.98)]</td>\n",
       "    </tr>\n",
       "    <tr>\n",
       "      <td>6</td>\n",
       "      <td>1007</td>\n",
       "      <td>C13</td>\n",
       "      <td>2017-09-13</td>\n",
       "      <td>2017-09-20</td>\n",
       "      <td>[(185, 5, 21.99), (680, 1, 20.5)]</td>\n",
       "    </tr>\n",
       "    <tr>\n",
       "      <td>7</td>\n",
       "      <td>1008</td>\n",
       "      <td>C13</td>\n",
       "      <td>2017-10-13</td>\n",
       "      <td>None</td>\n",
       "      <td>[(460, 20, 99.99)]</td>\n",
       "    </tr>\n",
       "  </tbody>\n",
       "</table>\n",
       "</div>"
      ],
      "text/plain": [
       "   orderno custid  order_date   ship_date  \\\n",
       "0     1001    C41  2017-04-29  2017-05-03   \n",
       "1     1002    C13  2017-05-01  2017-05-03   \n",
       "2     1003    C31  2017-06-15  2017-06-16   \n",
       "3     1004    C35  2017-07-10  2017-07-15   \n",
       "4     1005    C37  2017-08-30        None   \n",
       "5     1006    C41  2017-09-02  2017-09-04   \n",
       "6     1007    C13  2017-09-13  2017-09-20   \n",
       "7     1008    C13  2017-10-13        None   \n",
       "\n",
       "                                                                     items  \n",
       "0                                       [(347, 5, 19.99), (193, 2, 28.89)]  \n",
       "1                                    [(460, 95, 100.99), (680, 150, 8.75)]  \n",
       "2                                       [(120, 2, 88.99), (460, 3, 99.99)]  \n",
       "3                                         [(680, 6, 9.99), (195, 4, 35.0)]  \n",
       "4  [(460, 2, 99.98), (347, 120, 22.0), (780, 1, 1500.0), (375, 2, 149.98)]  \n",
       "5                   [(680, 51, 25.98), (120, 65, 85.0), (460, 120, 99.98)]  \n",
       "6                                        [(185, 5, 21.99), (680, 1, 20.5)]  \n",
       "7                                                       [(460, 20, 99.99)]  "
      ]
     },
     "execution_count": 121,
     "metadata": {},
     "output_type": "execute_result"
    }
   ],
   "source": [
    "\n",
    "import pyspark\n",
    "from pyspark.sql import SparkSession\n",
    "from pyspark.sql.functions import split, explode ,col\n",
    "from pyspark.sql import functions as functions\n",
    "import pandas as pd\n",
    "from beakerx import *\n",
    "\n",
    "pd.set_option(\"display.max_colwidth\", 10000)\n",
    "spark = SparkSession.builder.getOrCreate() \n",
    "spark.conf.set(\"spark.sql.repl.eagerEval.enabled\",True)\n",
    "\n",
    "customers = spark.read.format('avro').load('customers.avro')\n",
    "orders = spark.read.format('avro').load('orders.avro') \n",
    "\n",
    "orders.toPandas()\n",
    "\n"
   ]
  },
  {
   "cell_type": "code",
   "execution_count": 122,
   "metadata": {},
   "outputs": [
    {
     "data": {
      "text/html": [
       "<div>\n",
       "<style scoped>\n",
       "    .dataframe tbody tr th:only-of-type {\n",
       "        vertical-align: middle;\n",
       "    }\n",
       "\n",
       "    .dataframe tbody tr th {\n",
       "        vertical-align: top;\n",
       "    }\n",
       "\n",
       "    .dataframe thead th {\n",
       "        text-align: right;\n",
       "    }\n",
       "</style>\n",
       "<table border=\"1\" class=\"dataframe\">\n",
       "  <thead>\n",
       "    <tr style=\"text-align: right;\">\n",
       "      <th></th>\n",
       "      <th>custid</th>\n",
       "      <th>name</th>\n",
       "      <th>address</th>\n",
       "      <th>rating</th>\n",
       "    </tr>\n",
       "  </thead>\n",
       "  <tbody>\n",
       "    <tr>\n",
       "      <td>0</td>\n",
       "      <td>C13</td>\n",
       "      <td>T. Cruise</td>\n",
       "      <td>(201 Main St., St. Louis, MO, 63101)</td>\n",
       "      <td>750.0</td>\n",
       "    </tr>\n",
       "    <tr>\n",
       "      <td>1</td>\n",
       "      <td>C25</td>\n",
       "      <td>M. Streep</td>\n",
       "      <td>(690 River St., Hanover, MA, 02340)</td>\n",
       "      <td>690.0</td>\n",
       "    </tr>\n",
       "    <tr>\n",
       "      <td>2</td>\n",
       "      <td>C31</td>\n",
       "      <td>B. Pitt</td>\n",
       "      <td>(360 Mountain Ave., St. Louis, MO, 63101)</td>\n",
       "      <td>NaN</td>\n",
       "    </tr>\n",
       "    <tr>\n",
       "      <td>3</td>\n",
       "      <td>C35</td>\n",
       "      <td>J. Roberts</td>\n",
       "      <td>(420 Green St., Boston, MA, 02115)</td>\n",
       "      <td>565.0</td>\n",
       "    </tr>\n",
       "    <tr>\n",
       "      <td>4</td>\n",
       "      <td>C37</td>\n",
       "      <td>T. Hanks</td>\n",
       "      <td>(120 Harbor Blvd., Boston, MA, 02115)</td>\n",
       "      <td>750.0</td>\n",
       "    </tr>\n",
       "    <tr>\n",
       "      <td>5</td>\n",
       "      <td>C41</td>\n",
       "      <td>R. Duvall</td>\n",
       "      <td>(150 Market St., St. Louis, MO, 63101)</td>\n",
       "      <td>640.0</td>\n",
       "    </tr>\n",
       "    <tr>\n",
       "      <td>6</td>\n",
       "      <td>C47</td>\n",
       "      <td>S. Loren</td>\n",
       "      <td>(Via del Corso, Rome, Italy, None)</td>\n",
       "      <td>625.0</td>\n",
       "    </tr>\n",
       "  </tbody>\n",
       "</table>\n",
       "</div>"
      ],
      "text/plain": [
       "  custid        name                                    address  rating\n",
       "0    C13   T. Cruise       (201 Main St., St. Louis, MO, 63101)   750.0\n",
       "1    C25   M. Streep        (690 River St., Hanover, MA, 02340)   690.0\n",
       "2    C31     B. Pitt  (360 Mountain Ave., St. Louis, MO, 63101)     NaN\n",
       "3    C35  J. Roberts         (420 Green St., Boston, MA, 02115)   565.0\n",
       "4    C37    T. Hanks      (120 Harbor Blvd., Boston, MA, 02115)   750.0\n",
       "5    C41   R. Duvall     (150 Market St., St. Louis, MO, 63101)   640.0\n",
       "6    C47    S. Loren         (Via del Corso, Rome, Italy, None)   625.0"
      ]
     },
     "execution_count": 122,
     "metadata": {},
     "output_type": "execute_result"
    }
   ],
   "source": [
    "customers.toPandas()"
   ]
  },
  {
   "cell_type": "markdown",
   "metadata": {},
   "source": [
    "## Query1: BASIC"
   ]
  },
  {
   "cell_type": "code",
   "execution_count": 54,
   "metadata": {},
   "outputs": [
    {
     "name": "stdout",
     "output_type": "stream",
     "text": [
      "+------+---------+-------+------+\n",
      "|custid|     name|zipcode|rating|\n",
      "+------+---------+-------+------+\n",
      "|   C13|T. Cruise|  63101|   750|\n",
      "|   C25|M. Streep|  02340|   690|\n",
      "+------+---------+-------+------+\n",
      "\n"
     ]
    }
   ],
   "source": [
    "customers.selectExpr(\"custid\",\"name\",\"address.zipcode\", \"rating\").orderBy(\"custid\").limit(2).show()"
   ]
  },
  {
   "cell_type": "markdown",
   "metadata": {},
   "source": [
    "## Query2: VALUE (ObjectContructor, ArrayConstructor)"
   ]
  },
  {
   "cell_type": "markdown",
   "metadata": {},
   "source": [
    "### Q2.1"
   ]
  },
  {
   "cell_type": "code",
   "execution_count": 19,
   "metadata": {},
   "outputs": [
    {
     "name": "stdout",
     "output_type": "stream",
     "text": [
      "+--------------------------------+\n",
      "|value                           |\n",
      "+--------------------------------+\n",
      "|[T. Cruise, M. Streep, T. Hanks]|\n",
      "+--------------------------------+\n",
      "\n"
     ]
    }
   ],
   "source": [
    "customers.select(col(\"name\")).filter(col(\"rating\") > 650 ).agg(functions.collect_list(\"name\").alias(\"value\")).show(20,False);"
   ]
  },
  {
   "cell_type": "markdown",
   "metadata": {},
   "source": [
    "### Q2.2"
   ]
  },
  {
   "cell_type": "code",
   "execution_count": 44,
   "metadata": {},
   "outputs": [
    {
     "data": {
      "text/html": [
       "<div>\n",
       "<style scoped>\n",
       "    .dataframe tbody tr th:only-of-type {\n",
       "        vertical-align: middle;\n",
       "    }\n",
       "\n",
       "    .dataframe tbody tr th {\n",
       "        vertical-align: top;\n",
       "    }\n",
       "\n",
       "    .dataframe thead th {\n",
       "        text-align: right;\n",
       "    }\n",
       "</style>\n",
       "<table border=\"1\" class=\"dataframe\">\n",
       "  <thead>\n",
       "    <tr style=\"text-align: right;\">\n",
       "      <th></th>\n",
       "      <th>high-rated customers, ordered by zipcode</th>\n",
       "      <th>high-rated customers, ordered by rating</th>\n",
       "    </tr>\n",
       "  </thead>\n",
       "  <tbody>\n",
       "    <tr>\n",
       "      <td>0</td>\n",
       "      <td>[(C37, T. Hanks, 02115), (C25, M. Streep, 02340), (C13, T. Cruise, 63101)]</td>\n",
       "      <td>[(C37, T. Hanks, 750), (C25, M. Streep, 690), (C13, T. Cruise, 750)]</td>\n",
       "    </tr>\n",
       "  </tbody>\n",
       "</table>\n",
       "</div>"
      ],
      "text/plain": [
       "                                     high-rated customers, ordered by zipcode  \\\n",
       "0  [(C37, T. Hanks, 02115), (C25, M. Streep, 02340), (C13, T. Cruise, 63101)]   \n",
       "\n",
       "                                high-rated customers, ordered by rating  \n",
       "0  [(C37, T. Hanks, 750), (C25, M. Streep, 690), (C13, T. Cruise, 750)]  "
      ]
     },
     "execution_count": 44,
     "metadata": {},
     "output_type": "execute_result"
    }
   ],
   "source": [
    "customerByRating = customers.selectExpr(\"custid\", \"name\", \"rating\").filter(col(\"rating\") > 650 ).orderBy(\"rating\").withColumn(\"highratedrate\", functions.struct(col(\"custid\"), col(\"name\"), col(\"rating\")))\n",
    "\n",
    "customerByzipcode = customers.selectExpr(\"custid\", \"name\", \"address.zipcode\").filter(col(\"rating\")> 650).orderBy(col(\"address.zipcode\")).withColumn(\"highratedzip\", functions.struct(col(\"custid\"), col(\"name\"), col(\"zipcode\")))\n",
    "\n",
    "result = customerByRating.join(customerByzipcode,\"custid\" ).agg(functions.collect_list(\"highratedzip\").alias(\"high-rated customers, ordered by zipcode\"),functions.collect_list(\"highratedrate\").alias(\"high-rated customers, ordered by rating\"))\n",
    "\n",
    "result.toPandas()"
   ]
  },
  {
   "cell_type": "markdown",
   "metadata": {},
   "source": [
    "### Q2.3"
   ]
  },
  {
   "cell_type": "code",
   "execution_count": 49,
   "metadata": {},
   "outputs": [
    {
     "data": {
      "text/html": [
       "<div>\n",
       "<style scoped>\n",
       "    .dataframe tbody tr th:only-of-type {\n",
       "        vertical-align: middle;\n",
       "    }\n",
       "\n",
       "    .dataframe tbody tr th {\n",
       "        vertical-align: top;\n",
       "    }\n",
       "\n",
       "    .dataframe thead th {\n",
       "        text-align: right;\n",
       "    }\n",
       "</style>\n",
       "<table border=\"1\" class=\"dataframe\">\n",
       "  <thead>\n",
       "    <tr style=\"text-align: right;\">\n",
       "      <th></th>\n",
       "      <th>Average credit rating by zipcode</th>\n",
       "    </tr>\n",
       "  </thead>\n",
       "  <tbody>\n",
       "    <tr>\n",
       "      <td>0</td>\n",
       "      <td>{'02115': 658.0}</td>\n",
       "    </tr>\n",
       "    <tr>\n",
       "      <td>1</td>\n",
       "      <td>{'02340': 690.0}</td>\n",
       "    </tr>\n",
       "    <tr>\n",
       "      <td>2</td>\n",
       "      <td>{'63101': 695.0}</td>\n",
       "    </tr>\n",
       "  </tbody>\n",
       "</table>\n",
       "</div>"
      ],
      "text/plain": [
       "  Average credit rating by zipcode\n",
       "0                 {'02115': 658.0}\n",
       "1                 {'02340': 690.0}\n",
       "2                 {'63101': 695.0}"
      ]
     },
     "execution_count": 49,
     "metadata": {},
     "output_type": "execute_result"
    }
   ],
   "source": [
    "res = customers.select(col(\"address.zipcode\"), col(\"rating\")).filter(col(\"address.zipcode\").isNotNull()).groupBy(\"zipcode\").agg(functions.round(functions.avg(col(\"rating\"))).alias(\"rating\")).orderBy(\"zipcode\");\n",
    "\n",
    "res.select(functions.create_map(col(\"zipcode\"), col(\"rating\")).alias(\"Average credit rating by zipcode\")).toPandas()"
   ]
  },
  {
   "cell_type": "markdown",
   "metadata": {},
   "source": [
    "## Q3: * (AutoMap) and augmentation"
   ]
  },
  {
   "cell_type": "code",
   "execution_count": 51,
   "metadata": {},
   "outputs": [
    {
     "data": {
      "text/html": [
       "<table border='1'>\n",
       "<tr><th>custid</th><th>name</th><th>address</th><th>rating</th><th>credit</th></tr>\n",
       "<tr><td>C35</td><td>J. Roberts</td><td>[420 Green St., B...</td><td>565</td><td>Fair</td></tr>\n",
       "<tr><td>C37</td><td>T. Hanks</td><td>[120 Harbor Blvd....</td><td>750</td><td>Good</td></tr>\n",
       "</table>\n"
      ],
      "text/plain": [
       "+------+----------+--------------------+------+------+\n",
       "|custid|      name|             address|rating|credit|\n",
       "+------+----------+--------------------+------+------+\n",
       "|   C35|J. Roberts|[420 Green St., B...|   565|  Fair|\n",
       "|   C37|  T. Hanks|[120 Harbor Blvd....|   750|  Good|\n",
       "+------+----------+--------------------+------+------+"
      ]
     },
     "execution_count": 51,
     "metadata": {},
     "output_type": "execute_result"
    }
   ],
   "source": [
    " customers.withColumn(\"credit\",functions.when(col(\"rating\")> 650, \"Good\").when(col(\"rating\").between(500, 650),\"Fair\").otherwise(\"Poor\")).filter(col(\"address.zipcode\") == \"02115\")\n",
    "\n"
   ]
  },
  {
   "cell_type": "markdown",
   "metadata": {},
   "source": [
    "## Q4:UNNEST"
   ]
  },
  {
   "cell_type": "code",
   "execution_count": 53,
   "metadata": {},
   "outputs": [
    {
     "data": {
      "text/html": [
       "<table border='1'>\n",
       "<tr><th>orderno</th><th>item_number</th><th>quantity</th></tr>\n",
       "<tr><td>1002</td><td>460</td><td>95</td></tr>\n",
       "</table>\n"
      ],
      "text/plain": [
       "+-------+-----------+--------+\n",
       "|orderno|item_number|quantity|\n",
       "+-------+-----------+--------+\n",
       "|   1002|        460|      95|\n",
       "+-------+-----------+--------+"
      ]
     },
     "execution_count": 53,
     "metadata": {},
     "output_type": "execute_result"
    }
   ],
   "source": [
    "res = orders.select(col(\"orderno\"), col(\"order_date\"),functions.explode(col(\"items\")).alias(\"i\"));\n",
    "\n",
    "res.filter(col(\"order_date\")== \"2017-05-01\").groupBy(col(\"orderno\"), col(\"i.itemno\").alias(\"item_number\")).agg(functions.sum('i.qty').alias('quantity')).orderBy(\"orderno\", \"item_number\").limit(1)"
   ]
  },
  {
   "cell_type": "markdown",
   "metadata": {},
   "source": [
    "## Q5: GROUP BY/ GROUP AS"
   ]
  },
  {
   "cell_type": "markdown",
   "metadata": {},
   "source": [
    "### Q5.1"
   ]
  },
  {
   "cell_type": "code",
   "execution_count": 187,
   "metadata": {},
   "outputs": [
    {
     "data": {
      "text/html": [
       "<div>\n",
       "<style scoped>\n",
       "    .dataframe tbody tr th:only-of-type {\n",
       "        vertical-align: middle;\n",
       "    }\n",
       "\n",
       "    .dataframe tbody tr th {\n",
       "        vertical-align: top;\n",
       "    }\n",
       "\n",
       "    .dataframe thead th {\n",
       "        text-align: right;\n",
       "    }\n",
       "</style>\n",
       "<table border=\"1\" class=\"dataframe\">\n",
       "  <thead>\n",
       "    <tr style=\"text-align: right;\">\n",
       "      <th></th>\n",
       "      <th>orderno</th>\n",
       "      <th>item_number</th>\n",
       "      <th>quantity</th>\n",
       "      <th>od</th>\n",
       "    </tr>\n",
       "  </thead>\n",
       "  <tbody>\n",
       "    <tr>\n",
       "      <td>0</td>\n",
       "      <td>1002</td>\n",
       "      <td>460</td>\n",
       "      <td>95</td>\n",
       "      <td>((1002, C13, 2017-05-01, 2017-05-03, [Row(itemno=460, qty=95, price=100.99), Row(itemno=680, qty=150, price=8.75)]), (460, 95, 100.99))</td>\n",
       "    </tr>\n",
       "    <tr>\n",
       "      <td>1</td>\n",
       "      <td>1002</td>\n",
       "      <td>680</td>\n",
       "      <td>150</td>\n",
       "      <td>((1002, C13, 2017-05-01, 2017-05-03, [Row(itemno=460, qty=95, price=100.99), Row(itemno=680, qty=150, price=8.75)]), (680, 150, 8.75))</td>\n",
       "    </tr>\n",
       "  </tbody>\n",
       "</table>\n",
       "</div>"
      ],
      "text/plain": [
       "   orderno  item_number  quantity  \\\n",
       "0     1002          460        95   \n",
       "1     1002          680       150   \n",
       "\n",
       "                                                                                                                                        od  \n",
       "0  ((1002, C13, 2017-05-01, 2017-05-03, [Row(itemno=460, qty=95, price=100.99), Row(itemno=680, qty=150, price=8.75)]), (460, 95, 100.99))  \n",
       "1   ((1002, C13, 2017-05-01, 2017-05-03, [Row(itemno=460, qty=95, price=100.99), Row(itemno=680, qty=150, price=8.75)]), (680, 150, 8.75))  "
      ]
     },
     "execution_count": 187,
     "metadata": {},
     "output_type": "execute_result"
    }
   ],
   "source": [
    "res = orders.select(col(\"*\"), functions.explode(col(\"items\")).alias(\"i\")).filter(col(\"order_date\") == \"2017-05-01\")\n",
    "\n",
    "res2 = res.groupBy(col(\"orderno\").alias(\"ord\"), col(\"i.itemno\").alias(\"item_number\")).agg(functions.sum(\"i.qty\").alias(\"quantity\"));\n",
    "\n",
    "res3 = res2.join(res).filter(col(\"item_number\") == col(\"i.itemno\")).withColumn(\"o\", functions.struct(col(\"orderno\"), col(\"custid\"), col(\"order_date\"),col(\"ship_date\"), col(\"items\")))\n",
    "result = res3.withColumn(\"od\", functions.struct(col(\"o\"), col(\"i\"))).selectExpr(\"orderno\", \"item_number\", \"quantity\", \"od\")\n",
    "\n",
    "result.toPandas()"
   ]
  },
  {
   "cell_type": "markdown",
   "metadata": {},
   "source": [
    "## Q5.2"
   ]
  },
  {
   "cell_type": "code",
   "execution_count": 190,
   "metadata": {},
   "outputs": [
    {
     "data": {
      "text/html": [
       "<table border='1'>\n",
       "<tr><th>zipcode</th><th>best_rating</th><th>best_Customers</th></tr>\n",
       "<tr><td>02340</td><td>690</td><td>[[C25, M. Streep]]</td></tr>\n",
       "<tr><td>02115</td><td>750</td><td>[[C37, T. Hanks]]</td></tr>\n",
       "<tr><td>63101</td><td>750</td><td>[[C13, T. Cruise]]</td></tr>\n",
       "</table>\n"
      ],
      "text/plain": [
       "+-------+-----------+------------------+\n",
       "|zipcode|best_rating|    best_Customers|\n",
       "+-------+-----------+------------------+\n",
       "|  02340|        690|[[C25, M. Streep]]|\n",
       "|  02115|        750| [[C37, T. Hanks]]|\n",
       "|  63101|        750|[[C13, T. Cruise]]|\n",
       "+-------+-----------+------------------+"
      ]
     },
     "execution_count": 190,
     "metadata": {},
     "output_type": "execute_result"
    }
   ],
   "source": [
    "groupedcustomers = customers.selectExpr(\"*\").groupBy(\"address.zipcode\").agg(functions.max(col(\"rating\")).alias(\"best_rating\"))\n",
    "\n",
    "res = customers.join(groupedcustomers, groupedcustomers.zipcode == customers.address.zipcode).filter(col(\"rating\")== col(\"best_rating\")).withColumn(\"Customers\", functions.struct(col(\"custid\"), col(\"name\")))\n",
    "res.groupBy(\"zipcode\", \"best_rating\").agg(functions.collect_list(\"Customers\").alias(\"best_Customers\"))\n",
    "\n"
   ]
  },
  {
   "cell_type": "markdown",
   "metadata": {},
   "source": [
    "## Q6: SUBQUERIES\n"
   ]
  },
  {
   "cell_type": "code",
   "execution_count": 107,
   "metadata": {},
   "outputs": [
    {
     "data": {
      "text/html": [
       "<table border='1'>\n",
       "<tr><th>name</th></tr>\n",
       "<tr><td>T. Cruise</td></tr>\n",
       "<tr><td>T. Hanks</td></tr>\n",
       "</table>\n"
      ],
      "text/plain": [
       "+---------+\n",
       "|     name|\n",
       "+---------+\n",
       "|T. Cruise|\n",
       "| T. Hanks|\n",
       "+---------+"
      ]
     },
     "execution_count": 107,
     "metadata": {},
     "output_type": "execute_result"
    }
   ],
   "source": [
    "\n",
    "    \n",
    "customers.createOrReplaceTempView(\"c\");\n",
    "spark.sql(\"select name from c where c.rating in (select max(c2.rating) from c c2) \")\n"
   ]
  },
  {
   "cell_type": "code",
   "execution_count": 106,
   "metadata": {},
   "outputs": [
    {
     "data": {
      "text/html": [
       "<table border='1'>\n",
       "<tr><th>name</th></tr>\n",
       "<tr><td>T. Cruise</td></tr>\n",
       "<tr><td>M. Streep</td></tr>\n",
       "<tr><td>T. Hanks</td></tr>\n",
       "</table>\n"
      ],
      "text/plain": [
       "+---------+\n",
       "|     name|\n",
       "+---------+\n",
       "|T. Cruise|\n",
       "|M. Streep|\n",
       "| T. Hanks|\n",
       "+---------+"
      ]
     },
     "execution_count": 106,
     "metadata": {},
     "output_type": "execute_result"
    }
   ],
   "source": [
    "spark.sql(\"select name from c where c.rating > (select avg(c2.rating) from c c2) \")\n"
   ]
  },
  {
   "cell_type": "markdown",
   "metadata": {},
   "source": [
    "## Q7: QUANTIFIED EXPRESSIONS"
   ]
  },
  {
   "cell_type": "code",
   "execution_count": 102,
   "metadata": {},
   "outputs": [
    {
     "data": {
      "text/html": [
       "<table border='1'>\n",
       "<tr><th>name</th></tr>\n",
       "<tr><td>T. Cruise</td></tr>\n",
       "<tr><td>T. Hanks</td></tr>\n",
       "</table>\n"
      ],
      "text/plain": [
       "+---------+\n",
       "|     name|\n",
       "+---------+\n",
       "|T. Cruise|\n",
       "| T. Hanks|\n",
       "+---------+"
      ]
     },
     "execution_count": 102,
     "metadata": {},
     "output_type": "execute_result"
    }
   ],
   "source": [
    "customers.createOrReplaceTempView(\"c\");\n",
    "spark.sql(\"select c.name from c where c.rating in (select max(c2.rating) from c c2 where c2.rating  IS NOT NULL ) \")"
   ]
  },
  {
   "cell_type": "markdown",
   "metadata": {},
   "source": [
    "## Q8: INNER JOIN"
   ]
  },
  {
   "cell_type": "code",
   "execution_count": 126,
   "metadata": {},
   "outputs": [
    {
     "data": {
      "text/html": [
       "<div>\n",
       "<style scoped>\n",
       "    .dataframe tbody tr th:only-of-type {\n",
       "        vertical-align: middle;\n",
       "    }\n",
       "\n",
       "    .dataframe tbody tr th {\n",
       "        vertical-align: top;\n",
       "    }\n",
       "\n",
       "    .dataframe thead th {\n",
       "        text-align: right;\n",
       "    }\n",
       "</style>\n",
       "<table border=\"1\" class=\"dataframe\">\n",
       "  <thead>\n",
       "    <tr style=\"text-align: right;\">\n",
       "      <th></th>\n",
       "      <th>id</th>\n",
       "      <th>name</th>\n",
       "      <th>ordered_item</th>\n",
       "    </tr>\n",
       "  </thead>\n",
       "  <tbody>\n",
       "    <tr>\n",
       "      <td>0</td>\n",
       "      <td>1001</td>\n",
       "      <td>R. Duvall</td>\n",
       "      <td>[(347, 399.60009999999994), (193, 834.6321)]</td>\n",
       "    </tr>\n",
       "    <tr>\n",
       "      <td>1</td>\n",
       "      <td>1005</td>\n",
       "      <td>T. Hanks</td>\n",
       "      <td>[(460, 9996.0004), (347, 484.0), (780, 2250000.0), (375, 22494.000399999997)]</td>\n",
       "    </tr>\n",
       "    <tr>\n",
       "      <td>2</td>\n",
       "      <td>1006</td>\n",
       "      <td>R. Duvall</td>\n",
       "      <td>[(680, 674.9604), (120, 7225.0), (460, 9996.0004)]</td>\n",
       "    </tr>\n",
       "    <tr>\n",
       "      <td>3</td>\n",
       "      <td>1007</td>\n",
       "      <td>T. Cruise</td>\n",
       "      <td>[(185, 483.5600999999999), (680, 420.25)]</td>\n",
       "    </tr>\n",
       "    <tr>\n",
       "      <td>4</td>\n",
       "      <td>1002</td>\n",
       "      <td>T. Cruise</td>\n",
       "      <td>[(460, 10198.980099999999), (680, 76.5625)]</td>\n",
       "    </tr>\n",
       "    <tr>\n",
       "      <td>5</td>\n",
       "      <td>1004</td>\n",
       "      <td>J. Roberts</td>\n",
       "      <td>[(680, 99.8001), (195, 1225.0)]</td>\n",
       "    </tr>\n",
       "    <tr>\n",
       "      <td>6</td>\n",
       "      <td>1008</td>\n",
       "      <td>T. Cruise</td>\n",
       "      <td>[(460, 9998.0001)]</td>\n",
       "    </tr>\n",
       "  </tbody>\n",
       "</table>\n",
       "</div>"
      ],
      "text/plain": [
       "     id        name  \\\n",
       "0  1001   R. Duvall   \n",
       "1  1005    T. Hanks   \n",
       "2  1006   R. Duvall   \n",
       "3  1007   T. Cruise   \n",
       "4  1002   T. Cruise   \n",
       "5  1004  J. Roberts   \n",
       "6  1008   T. Cruise   \n",
       "\n",
       "                                                                    ordered_item  \n",
       "0                                   [(347, 399.60009999999994), (193, 834.6321)]  \n",
       "1  [(460, 9996.0004), (347, 484.0), (780, 2250000.0), (375, 22494.000399999997)]  \n",
       "2                             [(680, 674.9604), (120, 7225.0), (460, 9996.0004)]  \n",
       "3                                      [(185, 483.5600999999999), (680, 420.25)]  \n",
       "4                                    [(460, 10198.980099999999), (680, 76.5625)]  \n",
       "5                                                [(680, 99.8001), (195, 1225.0)]  \n",
       "6                                                             [(460, 9998.0001)]  "
      ]
     },
     "execution_count": 126,
     "metadata": {},
     "output_type": "execute_result"
    }
   ],
   "source": [
    "customerfiltred = customers.selectExpr(\"*\").filter(col(\"rating\")> 500);\n",
    "res = orders.select(col(\"custid\"), col(\"orderno\").alias(\"id\"),functions.explode(col(\"items\")).alias(\"exploded\"))\n",
    "res = res.join(customerfiltred, \"custid\").orderBy(\"rating\")\n",
    "res = res.withColumn(\"Item\",functions.struct(col(\"exploded.itemno\").alias(\"id\"),(col(\"exploded.price\") * col(\"exploded.price\")).alias(\"total_price\")))\n",
    "res = res.select(col(\"id\"), col(\"name\"), col(\"Item\").alias(\"ordered_item\")).groupBy(\"id\", \"name\").agg(functions.collect_list(\"ordered_item\").alias(\"ordered_item\"))\n",
    "res.toPandas()"
   ]
  },
  {
   "cell_type": "markdown",
   "metadata": {},
   "source": [
    "## Q9: MULTIPLE JOINS"
   ]
  },
  {
   "cell_type": "code",
   "execution_count": 132,
   "metadata": {},
   "outputs": [
    {
     "data": {
      "text/html": [
       "<table border='1'>\n",
       "<tr><th>order no</th><th>name</th><th>address</th><th>order_date</th><th>amount_due</th></tr>\n",
       "<tr><td>1001</td><td>R. Duvall</td><td>[150 Market St., ...</td><td>2017-04-29</td><td>157.73</td></tr>\n",
       "<tr><td>1002</td><td>T. Cruise</td><td>[201 Main St., St...</td><td>2017-05-01</td><td>10906.55</td></tr>\n",
       "<tr><td>1003</td><td>B. Pitt</td><td>[360 Mountain Ave...</td><td>2017-06-15</td><td>477.94999999999993</td></tr>\n",
       "<tr><td>1004</td><td>J. Roberts</td><td>[420 Green St., B...</td><td>2017-07-10</td><td>199.94</td></tr>\n",
       "<tr><td>1005</td><td>T. Hanks</td><td>[120 Harbor Blvd....</td><td>2017-08-30</td><td>4639.92</td></tr>\n",
       "<tr><td>1006</td><td>R. Duvall</td><td>[150 Market St., ...</td><td>2017-09-02</td><td>18847.58</td></tr>\n",
       "<tr><td>1007</td><td>T. Cruise</td><td>[201 Main St., St...</td><td>2017-09-13</td><td>130.45</td></tr>\n",
       "<tr><td>1008</td><td>T. Cruise</td><td>[201 Main St., St...</td><td>2017-10-13</td><td>1999.8</td></tr>\n",
       "</table>\n"
      ],
      "text/plain": [
       "+--------+----------+--------------------+----------+------------------+\n",
       "|order no|      name|             address|order_date|        amount_due|\n",
       "+--------+----------+--------------------+----------+------------------+\n",
       "|    1001| R. Duvall|[150 Market St., ...|2017-04-29|            157.73|\n",
       "|    1002| T. Cruise|[201 Main St., St...|2017-05-01|          10906.55|\n",
       "|    1003|   B. Pitt|[360 Mountain Ave...|2017-06-15|477.94999999999993|\n",
       "|    1004|J. Roberts|[420 Green St., B...|2017-07-10|            199.94|\n",
       "|    1005|  T. Hanks|[120 Harbor Blvd....|2017-08-30|           4639.92|\n",
       "|    1006| R. Duvall|[150 Market St., ...|2017-09-02|          18847.58|\n",
       "|    1007| T. Cruise|[201 Main St., St...|2017-09-13|            130.45|\n",
       "|    1008| T. Cruise|[201 Main St., St...|2017-10-13|            1999.8|\n",
       "+--------+----------+--------------------+----------+------------------+"
      ]
     },
     "execution_count": 132,
     "metadata": {},
     "output_type": "execute_result"
    }
   ],
   "source": [
    "res = orders.join(customers, \"custid\").select(col(\"orderno\").alias(\"order no\"), col(\"name\"), col(\"address\"),col(\"order_date\"), functions.explode(col(\"items\")).alias(\"i\"))\n",
    "\n",
    "res.groupBy(\"order no\", \"name\", \"address\", \"order_date\").agg(functions.sum(col(\"i.qty\") * col(\"i.price\")).alias(\"amount_due\")).orderBy(\"order no\")"
   ]
  },
  {
   "cell_type": "markdown",
   "metadata": {},
   "source": [
    "## Q10: LEFT OUTER JOIN"
   ]
  },
  {
   "cell_type": "code",
   "execution_count": 150,
   "metadata": {},
   "outputs": [
    {
     "data": {
      "text/html": [
       "<table border='1'>\n",
       "<tr><th>custid</th><th>name</th><th>orderno</th><th>order_date</th></tr>\n",
       "<tr><td>C13</td><td>T. Cruise</td><td>1002</td><td>2017-05-01</td></tr>\n",
       "<tr><td>C13</td><td>T. Cruise</td><td>1007</td><td>2017-09-13</td></tr>\n",
       "<tr><td>C13</td><td>T. Cruise</td><td>1008</td><td>2017-10-13</td></tr>\n",
       "<tr><td>C25</td><td>M. Streep</td><td>null</td><td>null</td></tr>\n",
       "<tr><td>C31</td><td>B. Pitt</td><td>1003</td><td>2017-06-15</td></tr>\n",
       "<tr><td>C35</td><td>J. Roberts</td><td>1004</td><td>2017-07-10</td></tr>\n",
       "<tr><td>C37</td><td>T. Hanks</td><td>1005</td><td>2017-08-30</td></tr>\n",
       "<tr><td>C41</td><td>R. Duvall</td><td>1001</td><td>2017-04-29</td></tr>\n",
       "<tr><td>C41</td><td>R. Duvall</td><td>1006</td><td>2017-09-02</td></tr>\n",
       "<tr><td>C47</td><td>S. Loren</td><td>null</td><td>null</td></tr>\n",
       "</table>\n"
      ],
      "text/plain": [
       "+------+----------+-------+----------+\n",
       "|custid|      name|orderno|order_date|\n",
       "+------+----------+-------+----------+\n",
       "|   C13| T. Cruise|   1002|2017-05-01|\n",
       "|   C13| T. Cruise|   1007|2017-09-13|\n",
       "|   C13| T. Cruise|   1008|2017-10-13|\n",
       "|   C25| M. Streep|   null|      null|\n",
       "|   C31|   B. Pitt|   1003|2017-06-15|\n",
       "|   C35|J. Roberts|   1004|2017-07-10|\n",
       "|   C37|  T. Hanks|   1005|2017-08-30|\n",
       "|   C41| R. Duvall|   1001|2017-04-29|\n",
       "|   C41| R. Duvall|   1006|2017-09-02|\n",
       "|   C47|  S. Loren|   null|      null|\n",
       "+------+----------+-------+----------+"
      ]
     },
     "execution_count": 150,
     "metadata": {},
     "output_type": "execute_result"
    }
   ],
   "source": [
    "res = customers.join(orders, \"custid\", how=\"left_outer\")\n",
    "res =res.select(col(\"custid\"),  col(\"name\"),col(\"orderno\"),col(\"order_date\") ).orderBy(\"custid\", \"order_date\");\n",
    "res"
   ]
  },
  {
   "cell_type": "markdown",
   "metadata": {},
   "source": [
    "## Q11: DISTINCT"
   ]
  },
  {
   "cell_type": "code",
   "execution_count": 156,
   "metadata": {},
   "outputs": [
    {
     "data": {
      "text/html": [
       "<table border='1'>\n",
       "<tr><th>itemno</th></tr>\n",
       "<tr><td>460</td></tr>\n",
       "<tr><td>185</td></tr>\n",
       "<tr><td>680</td></tr>\n",
       "</table>\n"
      ],
      "text/plain": [
       "+------+\n",
       "|itemno|\n",
       "+------+\n",
       "|   460|\n",
       "|   185|\n",
       "|   680|\n",
       "+------+"
      ]
     },
     "execution_count": 156,
     "metadata": {},
     "output_type": "execute_result"
    }
   ],
   "source": [
    "res = customers.filter(col(\"name\")==\"T. Cruise\");\n",
    "res = res.join(orders, \"custid\").select(functions.explode(col(\"items\")).alias(\"i\"))\n",
    "res.selectExpr(\"i.itemno\").distinct()"
   ]
  },
  {
   "cell_type": "markdown",
   "metadata": {},
   "source": [
    "## Q12: LET\n",
    "\n",
    "\n"
   ]
  },
  {
   "cell_type": "code",
   "execution_count": 165,
   "metadata": {},
   "outputs": [
    {
     "data": {
      "text/html": [
       "<table border='1'>\n",
       "<tr><th>orderno</th><th>days_late</th></tr>\n",
       "<tr><td>1007</td><td>5</td></tr>\n",
       "<tr><td>1004</td><td>3</td></tr>\n",
       "</table>\n"
      ],
      "text/plain": [
       "+-------+---------+\n",
       "|orderno|days_late|\n",
       "+-------+---------+\n",
       "|   1007|        5|\n",
       "|   1004|        3|\n",
       "+-------+---------+"
      ]
     },
     "execution_count": 165,
     "metadata": {},
     "output_type": "execute_result"
    }
   ],
   "source": [
    "orders.filter(col(\"ship_date\").isNotNull()).select(col(\"orderno\"), ((functions.dayofmonth(col(\"ship_date\"))-\n",
    "              functions.dayofmonth(col(\"order_date\")))- 2).alias(\"days_late\"))  .filter(col(\"days_late\") > 2 ).orderBy(functions.col(\"days_late\").desc())        \n",
    " "
   ]
  },
  {
   "cell_type": "code",
   "execution_count": 169,
   "metadata": {},
   "outputs": [
    {
     "data": {
      "text/html": [
       "<table border='1'>\n",
       "<tr><th>orderno</th><th>revenue</th></tr>\n",
       "<tr><td>1006</td><td>18847.58</td></tr>\n",
       "<tr><td>1002</td><td>10906.55</td></tr>\n",
       "<tr><td>1005</td><td>4639.92</td></tr>\n",
       "<tr><td>1008</td><td>1999.8</td></tr>\n",
       "</table>\n"
      ],
      "text/plain": [
       "+-------+--------+\n",
       "|orderno| revenue|\n",
       "+-------+--------+\n",
       "|   1006|18847.58|\n",
       "|   1002|10906.55|\n",
       "|   1005| 4639.92|\n",
       "|   1008|  1999.8|\n",
       "+-------+--------+"
      ]
     },
     "execution_count": 169,
     "metadata": {},
     "output_type": "execute_result"
    }
   ],
   "source": [
    "res = orders.withColumn(\"i\",functions.explode(col(\"items\")));\n",
    "res.groupBy(col(\"orderno\")).agg(functions.sum(col(\"i.qty\") * col(\"i.price\")).alias(\"revenue\")).where(\"revenue >1000\").orderBy(functions.col(\"revenue\").desc())"
   ]
  },
  {
   "cell_type": "code",
   "execution_count": 175,
   "metadata": {},
   "outputs": [
    {
     "data": {
      "text/html": [
       "<table border='1'>\n",
       "<tr><th>zip</th><th>best_rating</th><th>best_customers</th></tr>\n",
       "<tr><td>02115</td><td>750</td><td>[C37, T. Hanks]</td></tr>\n",
       "<tr><td>02340</td><td>690</td><td>[C25, M. Streep]</td></tr>\n",
       "<tr><td>63101</td><td>750</td><td>[C13, T. Cruise]</td></tr>\n",
       "</table>\n"
      ],
      "text/plain": [
       "+-----+-----------+----------------+\n",
       "|  zip|best_rating|  best_customers|\n",
       "+-----+-----------+----------------+\n",
       "|02115|        750| [C37, T. Hanks]|\n",
       "|02340|        690|[C25, M. Streep]|\n",
       "|63101|        750|[C13, T. Cruise]|\n",
       "+-----+-----------+----------------+"
      ]
     },
     "execution_count": 175,
     "metadata": {},
     "output_type": "execute_result"
    }
   ],
   "source": [
    "res = customers.groupBy(\"address.zipcode\").agg(functions.max(\"rating\").alias(\"best_rating\"));\n",
    "\n",
    "res2 = res.join(customers, res.zipcode == customers.address.zipcode).filter(col(\"rating\")== col(\"best_rating\")).withColumn(\"best_customers\", functions.struct(col(\"custid\"),col(\"name\"))).orderBy(\"custid\")\n",
    "\n",
    "res2.select(col(\"zipcode\").alias(\"zip\"), col(\"best_rating\"), col(\"best_customers\")).orderBy(\"zip\")\n"
   ]
  },
  {
   "cell_type": "markdown",
   "metadata": {},
   "source": [
    "## Q13: BUILT-IN FUNCTIONS"
   ]
  },
  {
   "cell_type": "code",
   "execution_count": 178,
   "metadata": {},
   "outputs": [
    {
     "data": {
      "text/html": [
       "<table border='1'>\n",
       "<tr><th>month</th><th>order_count</th></tr>\n",
       "<tr><td>4</td><td>1</td></tr>\n",
       "<tr><td>5</td><td>1</td></tr>\n",
       "<tr><td>6</td><td>1</td></tr>\n",
       "<tr><td>7</td><td>1</td></tr>\n",
       "<tr><td>8</td><td>1</td></tr>\n",
       "<tr><td>9</td><td>2</td></tr>\n",
       "<tr><td>10</td><td>1</td></tr>\n",
       "</table>\n"
      ],
      "text/plain": [
       "+-----+-----------+\n",
       "|month|order_count|\n",
       "+-----+-----------+\n",
       "|    4|          1|\n",
       "|    5|          1|\n",
       "|    6|          1|\n",
       "|    7|          1|\n",
       "|    8|          1|\n",
       "|    9|          2|\n",
       "|   10|          1|\n",
       "+-----+-----------+"
      ]
     },
     "execution_count": 178,
     "metadata": {},
     "output_type": "execute_result"
    }
   ],
   "source": [
    "res = orders.select(functions.month(col(\"order_date\")).alias(\"month\")).filter(functions.year(col(\"order_date\"))== 2017)\n",
    "res.groupBy(\"month\").agg(functions.count(col(\"*\")).alias(\"order_count\")).orderBy(\"month\")"
   ]
  },
  {
   "cell_type": "code",
   "execution_count": 181,
   "metadata": {},
   "outputs": [
    {
     "data": {
      "text/html": [
       "<table border='1'>\n",
       "<tr><th>revenue</th><th>orderno</th><th>order_date</th></tr>\n",
       "<tr><td>18847.58</td><td>1006</td><td>2017-09-02</td></tr>\n",
       "<tr><td>10906.55</td><td>1002</td><td>2017-05-01</td></tr>\n",
       "</table>\n"
      ],
      "text/plain": [
       "+--------+-------+----------+\n",
       "| revenue|orderno|order_date|\n",
       "+--------+-------+----------+\n",
       "|18847.58|   1006|2017-09-02|\n",
       "|10906.55|   1002|2017-05-01|\n",
       "+--------+-------+----------+"
      ]
     },
     "execution_count": 181,
     "metadata": {},
     "output_type": "execute_result"
    }
   ],
   "source": [
    "res = orders.withColumn(\"i\", functions.explode(col(\"items\")))\n",
    "res2 = res.groupBy(col(\"orderno\").alias(\"ord\")).agg(functions.sum(col(\"i.qty\") * col(\"i.price\")).alias(\"revenue\"))\n",
    "res3 = res2.join(orders, res2.ord == orders.orderno).filter(col(\"revenue\") > 10000).orderBy(functions.col(\"revenue\").desc())\n",
    "res3.select(col(\"revenue\"),col(\"orderno\"), col(\"order_date\"))"
   ]
  },
  {
   "cell_type": "markdown",
   "metadata": {},
   "source": [
    "## Q14: MODULARITY"
   ]
  },
  {
   "cell_type": "code",
   "execution_count": 186,
   "metadata": {},
   "outputs": [
    {
     "data": {
      "text/html": [
       "<table border='1'>\n",
       "<tr><th>minimum</th><th>maximum</th><th>average</th></tr>\n",
       "<tr><td>130.0</td><td>18848.0</td><td>4670.0</td></tr>\n",
       "</table>\n"
      ],
      "text/plain": [
       "+-------+-------+-------+\n",
       "|minimum|maximum|average|\n",
       "+-------+-------+-------+\n",
       "|  130.0|18848.0| 4670.0|\n",
       "+-------+-------+-------+"
      ]
     },
     "execution_count": 186,
     "metadata": {},
     "output_type": "execute_result"
    }
   ],
   "source": [
    "res = orders.withColumn(\"i\", functions.explode(col(\"items\")));\n",
    "res = res.filter(functions.year(col(\"order_date\"))== \"2017\").groupBy(\"orderno\").agg(functions.sum(col(\"i.qty\") * col(\"i.price\")).alias(\"revenu\"))\n",
    "res.select(functions.round(functions.min(\"revenu\")).alias(\"minimum\"),functions.round(functions.max(\"revenu\")).alias(\"maximum\"),functions.round(functions.avg(\"revenu\")).alias(\"average\"))"
   ]
  }
 ],
 "metadata": {
  "kernelspec": {
   "display_name": "Python 3",
   "language": "python",
   "name": "python3"
  },
  "language_info": {
   "codemirror_mode": {
    "name": "ipython",
    "version": 3
   },
   "file_extension": ".py",
   "mimetype": "text/x-python",
   "name": "python",
   "nbconvert_exporter": "python",
   "pygments_lexer": "ipython3",
   "version": "3.7.3"
  }
 },
 "nbformat": 4,
 "nbformat_minor": 2
}
